{
 "cells": [
  {
   "cell_type": "markdown",
   "metadata": {},
   "source": [
    "# K-means algorithm and Cluster Validation"
   ]
  },
  {
   "cell_type": "markdown",
   "metadata": {},
   "source": [
    "\n",
    "> **NOTE**: When running a cell, please make sure to run all the cells above first, as not doing so might cause the code to fail"
   ]
  },
  {
   "cell_type": "markdown",
   "metadata": {},
   "source": [
    "# Necessary imports and setup"
   ]
  },
  {
   "cell_type": "markdown",
   "metadata": {},
   "source": [
    "We start by importing the necessary libraries as well as setting up appropriate styles for the plots for both parts of the project"
   ]
  },
  {
   "cell_type": "code",
   "execution_count": 1,
   "metadata": {},
   "outputs": [],
   "source": [
    "%matplotlib inline\n",
    "import matplotlib.pyplot as plt\n",
    "import numpy as np\n",
    "import sys\n",
    "import copy\n",
    "\n",
    "plt.style.use('default')\n",
    "plt.style.use('dark_background')"
   ]
  },
  {
   "cell_type": "markdown",
   "metadata": {},
   "source": [
    "# Implementing k-means algorithm with Mahalanobis Distance"
   ]
  },
  {
   "cell_type": "markdown",
   "metadata": {},
   "source": [
    "## Toy dataset generation"
   ]
  },
  {
   "cell_type": "markdown",
   "metadata": {},
   "source": [
    "Before running any algorithms, we first need to generate a toy dataset that can effectively demonstrate the difference between using Mahalanobis and Euclidean distances for k-means clustering."
   ]
  },
  {
   "cell_type": "markdown",
   "metadata": {},
   "source": [
    "#### Generating ellipse shaped data"
   ]
  },
  {
   "cell_type": "markdown",
   "metadata": {},
   "source": [
    "The ellipse shaped data generation builds upon the parametric equation of a rotated ellipse, which is as follows:   \n",
    "$$x = a \\cos t \\cos \\theta - b \\sin t \\sin \\theta$$\n",
    "$$y = a \\cos t \\sin \\theta + b \\sin t \\cos \\theta$$\n",
    "\n",
    "Where,  \n",
    "   \n",
    "$a$ = major radius of the ellipse   \n",
    "$b$ = minor radius of the ellipse   \n",
    "$t$ = parameter to get a point $(x, y)$ on ellipse   \n",
    "$\\theta$ = angle of rotation of the ellipse\n",
    "   \n",
    "Now, using these equations, we can generate points on a rotated ellipse centered at $(0, 0)$. But, for clustering, we need data points that are not just on the ellipse, but rather make an ellipse shaped blob collectively. To achieve this, we multiply each point obtained using the above equations with a random number chosen from a **normal distribution**. The normal distribution with mean zero ensures that most points are closer to the center of the ellipse, while the variance gives the necessary spread to the data.   \n",
    "   \n",
    "At this point, we have an ellipse shaped data blob centered at $(0, 0)$ and rotated at some angle. Finally, we move the center of this data by adding coordinates of the new center $(h, k)$ to the $x$ and $y$ obtained in earlier steps.   \n",
    "    \n",
    "Generating such $(x, y)$ for the required number of points gives the required dataset. This concludes ellipse shaped data generation."
   ]
  },
  {
   "cell_type": "code",
   "execution_count": 2,
   "metadata": {},
   "outputs": [],
   "source": [
    "def gen_ellipse_shaped_data(scale_factor, a, b, h, k, angle, num_points):\n",
    "    \"\"\"\n",
    "    Generates an ellipse shaped dataset\n",
    "    \n",
    "    :param scale_factor: Scale factor of the ellipse (Bigger scale factors allow bigger ellipses)\n",
    "    :param a: major radius of the ellipse\n",
    "    :param b: minor radius of the ellipse\n",
    "    :param h: x coordinate of the ellipse's center\n",
    "    :param k: y coordinate of the ellipse's center\n",
    "    :param angle: angle of rotation of the ellipse\n",
    "    :param num_points: number of data points to be generated\n",
    "    \n",
    "    :returns: ellipse shaped dataset with the given arguments\n",
    "    \"\"\"\n",
    "    points = [] # initially, no points\n",
    "    \n",
    "    for i in range(num_points):\n",
    "        # getting x and y using the parametric equations of rotated ellipse\n",
    "        # also multiplying the scale_factor for bigger ellipses\n",
    "        x = scale_factor*(a*np.cos(i)*np.cos(angle) - b*np.sin(i)*np.sin(angle))\n",
    "        y = scale_factor*(a*np.cos(i)*np.sin(angle) + b*np.sin(i)*np.cos(angle))\n",
    "        \n",
    "        # generating a random float from normal distribution with mean at 0 and a variance of 0.5\n",
    "        random_fl = np.random.normal(loc=0.0, scale=0.5)\n",
    "        \n",
    "        # multipying the point on ellipse with a random number from the above distribution. Also\n",
    "        # translating it to the new center\n",
    "        x = x*random_fl + h\n",
    "        y = y*random_fl + k\n",
    "        \n",
    "        # appending the final point\n",
    "        points.append([x, y])\n",
    "    \n",
    "    return points"
   ]
  },
  {
   "cell_type": "markdown",
   "metadata": {},
   "source": [
    "#### Generating dataset containing data from multiple ellipse shaped blobs"
   ]
  },
  {
   "cell_type": "markdown",
   "metadata": {},
   "source": [
    "Once we have the code to generate an ellipse shaped data blob, we can now generate our toy dataset which combines multiple ellipse shaped blobs and returns it as a single dataset. In addition, we also return the actual means of each individual blobs, which will later be used in comparing the results obtained from k-means to the actual individual ellipse blobs.\n",
    "\n",
    "The ```generate_clustering_dataset``` function below generates the required dataset.\n",
    "  \n",
    "Here, also note that the additional function ```calc_dataset_mean``` calculates the mean of the provided data points. This function will also used later in the k-means algorithm for updating the cluster means."
   ]
  },
  {
   "cell_type": "code",
   "execution_count": 3,
   "metadata": {},
   "outputs": [],
   "source": [
    "def calc_dataset_mean(dataset):\n",
    "    \"\"\"\n",
    "    Calculates the mean of the provided dataset\n",
    "    \n",
    "    :param dataset: The input dataset\n",
    "    \n",
    "    :returns: The mean of the dataset\n",
    "    \"\"\"\n",
    "    if len(dataset) < 1:\n",
    "        # empty dataset should not have any mean\n",
    "        return None\n",
    "    \n",
    "    mean = [0.0]*len(dataset[0])\n",
    "    \n",
    "    # adding averaged value of each point to the mean\n",
    "    for point in dataset:\n",
    "        for i, coord in enumerate(point):\n",
    "            mean[i] += coord / len(dataset)\n",
    "            \n",
    "    return mean\n",
    "\n",
    "def generate_clustering_data(num_points, seed=None):    \n",
    "    \"\"\"\n",
    "    Generates a 2D clustering data with required number of points\n",
    "    \n",
    "    :param num_data_points: Number of points in the required dataset\n",
    "    :param seed: Seed to be used for the random generator \n",
    "    \n",
    "    :returns: A 2D dataset with required number of points\n",
    "    \"\"\"\n",
    "    np.random.seed(seed)\n",
    "    ellipse_data_1 = gen_ellipse_shaped_data(0.45, 4, 1, 0.0, -1.1, np.radians(-60), num_points // 4)\n",
    "    ellipse_data_2 = gen_ellipse_shaped_data(0.45, 4, 1, 0.5, 0.0, np.radians(-60), num_points // 4)\n",
    "    ellipse_data_3 = gen_ellipse_shaped_data(0.45, 4, 1, 1.0, 1.1, np.radians(-60), num_points // 4)\n",
    "    ellipse_data_4 = gen_ellipse_shaped_data(0.65, 1, 1, 1.75, 1.75, np.radians(0), num_points // 4)\n",
    "    \n",
    "    # combining the four datasets into one\n",
    "    combined = ellipse_data_1 + ellipse_data_3 + ellipse_data_2 + ellipse_data_4\n",
    "    \n",
    "    # also keeping track of actual means for later comparisions and experiments\n",
    "    actual_means = [calc_dataset_mean(ellipse_data_1), calc_dataset_mean(ellipse_data_2),\\\n",
    "                    calc_dataset_mean(ellipse_data_3), calc_dataset_mean(ellipse_data_4)]\n",
    "    \n",
    "    return combined, actual_means"
   ]
  },
  {
   "cell_type": "markdown",
   "metadata": {},
   "source": [
    "## Utility Functions"
   ]
  },
  {
   "cell_type": "markdown",
   "metadata": {},
   "source": [
    "#### Euclidean Distance calculation"
   ]
  },
  {
   "cell_type": "markdown",
   "metadata": {},
   "source": [
    "The Euclidean between two points $x$ and $y$ is calculated using the following equation:  \n",
    "  \n",
    "$$d(x, y) = \\sqrt{\\left\\| x - y \\right\\|^2}$$\n",
    "   \n",
    "Since the k-means algorithm only uses the distances for comparisions, the k-means algorithm can work with the squared distances as well, because the squared distances will have the same minimum or maximum. However, here we take the square root for the consistency and reusability of the same function in the cluster validation part.   \n",
    "\n",
    "Since the calculation of Davies-Bouldin index relies upon actual euclidean distances and not their squares, this function can provide correct values."
   ]
  },
  {
   "cell_type": "code",
   "execution_count": 4,
   "metadata": {},
   "outputs": [],
   "source": [
    "def calc_euclidean_distance(point1, point2):\n",
    "    \"\"\"\n",
    "    Calculates the euclidean distance between two points\n",
    "    \n",
    "    :param point1: Point 1 for distance calculation\n",
    "    :param point2: Point 2 for distance calculation\n",
    "    \n",
    "    :returns: The euclidean distance between two points\n",
    "    \"\"\"\n",
    "    # checking if any of the points are None. Also checking if the points have same dimensions.\n",
    "    if not point1 or not point2 or len(point1) != len(point2):\n",
    "        return None\n",
    "    \n",
    "    euc_dist = 0.0\n",
    "    \n",
    "    for coord1, coord2 in zip(point1, point2):\n",
    "        # addiing the squared difference for each coordinate\n",
    "        euc_dist += (coord1 - coord2)**2\n",
    "\n",
    "    return np.sqrt(euc_dist)"
   ]
  },
  {
   "cell_type": "markdown",
   "metadata": {},
   "source": [
    "#### Covariance Matrix Calculation"
   ]
  },
  {
   "cell_type": "markdown",
   "metadata": {},
   "source": [
    "For the Mahalanobis distance based ***k-means***, we need to calculate the covariance matrix of the data as well. Covariance is the measure of association between two variables.\n",
    "  \n",
    "The covariance of $N$ samples consisting two variables $x$ and $y$ with means $\\bar{x}$ and $\\bar{y}$ is calculated using the following equation:\n",
    "  \n",
    "$$cov(x, y) = \\frac{1}{N-1}\\sum_{i=1}^{N} (x_i - \\bar{x})(y_i - \\bar{y})$$  \n",
    "\n",
    "The resulting covariance matrix is an $V\\times V$ square matrix for data constisting of $V$ variables, where each cell describes the covariance between the row and the column variable. For example, a covariance matrix of two variables $x$ and $y$ is:\n",
    "$\\begin{bmatrix}\n",
    "cov(x, x) & cov(x, y)\\\\\n",
    "cov(y, x) & cov(y, y)\n",
    "\\end{bmatrix}$\n",
    "   \n",
    "   Notice that, Since $cov(a, b)$ is the same as $cov(b, a)$, the matrix is symmetric. Also, since $cov(a, a)$ is just the variance of a, the diagonal values are the variances of individual variables.  \n",
    "  \n",
    "  \n",
    "As numpy has the functionality of calculating covariance on a provided data, we use that function for simplicity. Note that the data is a list of lists, where each element of the input data is an N-dimensional points. Since the numpy covariance calculation requries each column of its input to a coordinate (e.g. first column indicating the x coordinate of the points), it is necessary to take the transpose first, as shown in the code below."
   ]
  },
  {
   "cell_type": "code",
   "execution_count": 5,
   "metadata": {},
   "outputs": [],
   "source": [
    "def calc_covariance(data):\n",
    "    \"\"\"\n",
    "    Calculates the covariance of the input data\n",
    "    \n",
    "    :param data: input data\n",
    "    \n",
    "    :returns: The covariance matrix of the input data (NxN matrix for N dimensional data)\n",
    "    \"\"\"\n",
    "    data_np = np.array(data) # converting the data to np array before doing any operations\n",
    "    data_np_transpose = data_np.T # taking transpose of the data\n",
    "    cov_matrix = np.cov(data_np_transpose) # calculating the covariance matrix using the transpose  \n",
    "    return cov_matrix"
   ]
  },
  {
   "cell_type": "markdown",
   "metadata": {},
   "source": [
    "#### Mahalanobis Distance Calculation"
   ]
  },
  {
   "cell_type": "markdown",
   "metadata": {},
   "source": [
    "For the mahalanobis distance based ***k-means*** algorithm, we need a function that calculates the Mahalanobis distance between a sample point and a cluster. In contrast to the Euclidean distance, Mahalanobis distance takes the covariance of the variables in the data as well into consideration.\n",
    "  \n",
    "The Mahalanobis distance $d_M$ between a point $x$ and a cluster $\\mathcal{C}$ with covariance matrix $\\mathcal{S}$ and mean $\\mu$ is calculated using the following equation:\n",
    "\n",
    "$$d_M(x, \\mathcal{C}) = \\sqrt{(x - \\mu)^{T} \\mathcal{S}^{-1} (x - \\mu)}$$"
   ]
  },
  {
   "cell_type": "code",
   "execution_count": 6,
   "metadata": {},
   "outputs": [],
   "source": [
    "def calc_mahalanobis_distance(sample, cov_matrix, mean):\n",
    "    \"\"\"\n",
    "    Calculates the mahalanobis distance between a sample and a cluster\n",
    "    \n",
    "    :param sample: input sample\n",
    "    :param cov_matrix: covariance matrix of the cluster\n",
    "    :param mean: The mean of the cluster\n",
    "    \n",
    "    :returns: Mahalanobis distance between the cluster and the sample\n",
    "    \"\"\"\n",
    "    # casting to numpy array for numpy operations\n",
    "    sample_np = np.array(sample)\n",
    "    mean_np = np.array(mean)\n",
    "    \n",
    "    diff = sample_np - mean_np\n",
    "    \n",
    "    # getting the inverse covariance matrix\n",
    "    if np.linalg.det(cov_matrix) != 0:\n",
    "        # the inverse of a matrix only exists if the determinant is not 0\n",
    "        inverse_cov_matrix = np.linalg.inv(cov_matrix)\n",
    "    else:\n",
    "        # if the determinant is 0, use an identity matrix as the inverse covariance matrix instead\n",
    "        # Mathematically, when identity matrix is used as the inverse covariance matrix in Mahalanobis\n",
    "        # distance, it is equal to the Euclidian distance between the point and the cluster's mean\n",
    "        inverse_cov_matrix = np.identity(2)\n",
    "        \n",
    "    # doing the required dot products to calculate the Mahalanobis distance\n",
    "    temp = np.dot(diff.T, inverse_cov_matrix)\n",
    "    mahal_dist = np.dot(temp, diff)\n",
    "\n",
    "    return np.sqrt(mahal_dist)"
   ]
  },
  {
   "cell_type": "markdown",
   "metadata": {},
   "source": [
    "#### Finding nearest cluster based on specified distance"
   ]
  },
  {
   "cell_type": "markdown",
   "metadata": {},
   "source": [
    "Now that we have the functions for calculating the Euclidean and the Mahalanobis distances, we can write the function that finds the nearest cluster using either of these distances. The k-means algorithm will use this function to find the cluster that is nearest to the sample, and it will put the sample point into that cluster.\n",
    "   \n",
    "Note that, when there is only one point in a cluster, the nearest distance is always calculated as the euclidean distance. This is because, when $N = 1$, the covariance of the data is not defined because of the term $\\frac{1}{N-1}$ in its equation."
   ]
  },
  {
   "cell_type": "code",
   "execution_count": 7,
   "metadata": {},
   "outputs": [],
   "source": [
    "def get_nearest_cluster(sample, clusters, means, mahalanobis):\n",
    "    \"\"\"\n",
    "    Finds the nearest cluster to the input sample based on the distance \n",
    "    specified (Mahalanobis or Euclidean)\n",
    "    \n",
    "    :param sample: input sample point\n",
    "    :param clusters: clusters in the partition \n",
    "    :param means: Means of the clusters\n",
    "    :param mahalanobis: boolean value indicating if mahalanobis distance is to \n",
    "                        be used instead of euclidean distance\n",
    "    \n",
    "    :returns: The nearest cluster to the sample based on the distance\n",
    "              specified (Mahalanobis or Euclidean)\n",
    "    \"\"\"\n",
    "    min_distance = sys.float_info.max\n",
    "    nearest_cluster = -1\n",
    "    for i, cluster in enumerate(clusters):\n",
    "        if len(cluster) < 2 or not mahalanobis:\n",
    "            # If there is only 1 point in the cluster,\n",
    "            # always use euclidian distance \n",
    "            distance = calc_euclidean_distance(sample, means[i])\n",
    "        else:\n",
    "            cov_matrix = calc_covariance(cluster)\n",
    "            distance = calc_mahalanobis_distance(sample, cov_matrix, means[i])\n",
    "        if distance < min_distance:\n",
    "            # new nearest cluster found, update the known minimums accordingly\n",
    "            min_distance = distance\n",
    "            nearest_cluster = i\n",
    "    return nearest_cluster"
   ]
  },
  {
   "cell_type": "markdown",
   "metadata": {},
   "source": [
    "#### Choosing random means"
   ]
  },
  {
   "cell_type": "markdown",
   "metadata": {},
   "source": [
    "In the first iteration, the k-means algorithm chooses the cluster representatives randomly to start clustering the data. This function returns unique random points from the input data as initial representatives. Although these are called \"means\" for keeping the naming consistent with k-means, these are not necessarily the actual means of the data, but rather just some random points in the dataset.   \n",
    "   \n",
    "Since these randomly chosen representatives are the starting point of clustering in k-means, their values have a huge impact on the final result."
   ]
  },
  {
   "cell_type": "code",
   "execution_count": 8,
   "metadata": {},
   "outputs": [],
   "source": [
    "def get_random_means(input_data, k):\n",
    "    \"\"\"\n",
    "    Chooses random means from the input data\n",
    "    \n",
    "    :param input_data: input data\n",
    "    :param k: number of means to choose\n",
    "    \n",
    "    :returns: Random points from the input dataset which will be interpreted as\n",
    "              initial representatives of the clusters\n",
    "    \"\"\"\n",
    "    random_means = []\n",
    "    random_indexes = []\n",
    "    \n",
    "    for i in range(k):\n",
    "        while True:\n",
    "            new_random_index = np.random.randint(0,len(input_data)-1)\n",
    "            if new_random_index not in random_indexes:\n",
    "                # new random index found\n",
    "                random_indexes.append(new_random_index)\n",
    "                break\n",
    "    # get random means from the data using the random indexes\n",
    "    for rand_index in random_indexes:\n",
    "        random_means.append(input_data[rand_index])\n",
    "    \n",
    "    return random_means"
   ]
  },
  {
   "cell_type": "markdown",
   "metadata": {},
   "source": [
    "## K-means Algorithm"
   ]
  },
  {
   "cell_type": "markdown",
   "metadata": {},
   "source": [
    "Now that we have all the required pieces together, we can finally write the k-means algorithm for k-clustering.   \n",
    "   \n",
    "The ***k-means*** algorithm takes the input data $\\mathcal{X} = {x_1,..., x_n}$, the number of clusters $k$, and the maximum number of iterations. Note that, the function ```k_means``` takes an additional boolean argument ```mahalanobis``` indicating if the algorithm should use mahalanobis distances instead of euclidean distances.  \n",
    "   \n",
    "\n",
    "The output of the k-means algorithm is a partition $\\mathcal{P} = \\{{\\mathcal{C}_1,..., \\mathcal{C}_K}\\}$, where    \n",
    "   - each initial data point $x \\in \\mathcal{X}$ is in some cluster $\\mathcal{C} \\in \\mathcal{P}$\n",
    "   - no cluster $\\mathcal{C} \\in \\mathcal{P}$ is $\\phi$\n",
    "   - $\\bigcup^{K}_{i=1} = \\mathcal{P}$\n",
    "   - $\\bigcup^{K}_{i=1} = \\mathcal{P}$\n",
    "   - $C_i \\cap C_j = \\phi, i \\neq j, i, j = 1, ..., K$\n",
    " "
   ]
  },
  {
   "cell_type": "code",
   "execution_count": 9,
   "metadata": {},
   "outputs": [],
   "source": [
    "def k_means(data, k, max_iterations, mahalanobis):\n",
    "    \"\"\"\n",
    "    The k-means algorithm. Clusters the input data into number of clusters\n",
    "    provided (k)\n",
    "    \n",
    "    :param data: data to be clustered\n",
    "    :param k: number of clusters for partitioning\n",
    "    :param max_iterations: maximum number of iterations for the k-means algorithm\n",
    "    :param mahalanobis: boolean specifying if k-means should use mahalanobis \n",
    "                        distance instead of standard euclidean distance\n",
    "    \n",
    "    :returns: Partition of the input data, consisting k-clusters, \n",
    "              means of each cluster in the partition,\n",
    "              number of iterations taken by the k-means for clustering\n",
    "    \"\"\"\n",
    "    partition = [[] for i in range(k)]   # number of clusters in partition is k\n",
    "    means = get_random_means(data, k)   # initial cluster representatives, chosen randomly\n",
    "    last_partition = None  # last partition, to detect convergence\n",
    "    t = 0\n",
    "    while True:\n",
    "        t += 1\n",
    "        last_partition = partition  # storing the partition before changing\n",
    "        partition = [[] for i in range(k)]\n",
    "        for sample in data:\n",
    "            # getting nearest cluster\n",
    "            nearest = get_nearest_cluster(sample, last_partition, means, mahalanobis)\n",
    "            # appending sample to the nearest cluster\n",
    "            partition[nearest].append(sample)\n",
    "        for i, cluster in enumerate(partition):\n",
    "            # updating the means\n",
    "            if len(cluster) > 0:\n",
    "                means[i] = calc_dataset_mean(cluster)\n",
    "        if partition == last_partition or t > max_iterations:\n",
    "            # convergence of maximum iterations reached\n",
    "            return partition, means, t"
   ]
  },
  {
   "cell_type": "markdown",
   "metadata": {},
   "source": [
    "### Utility function for plotting a partition"
   ]
  },
  {
   "cell_type": "code",
   "execution_count": 10,
   "metadata": {},
   "outputs": [],
   "source": [
    "def plot_clusters(partition, means, ax, title):\n",
    "    \"\"\"\n",
    "    Plots the clusters using matplotlib\n",
    "    \n",
    "    :param partition: partition to plot\n",
    "    :param means: list of mean of each cluster in the partition\n",
    "    :param ax: matplotlib axes to plot on\n",
    "    :param title: title of the axes\n",
    "    \"\"\"\n",
    "    ax.set_title(title)\n",
    "    colors = ['red', 'goldenrod', 'turquoise', 'limegreen']\n",
    "    cmap = plt.get_cmap('gist_rainbow')\n",
    "    colors += [cmap(i) for i in np.linspace(0, 1, 100)]\n",
    "    for i, cluster in enumerate(partition):\n",
    "        x = [point[0] for point in cluster]\n",
    "        y = [point[1] for point in cluster]\n",
    "        ax.plot(x, y, '.', color=colors[i])\n",
    "\n",
    "    x = [point[0] for point in means]\n",
    "    y = [point[1] for point in means]\n",
    "    ax.plot(x, y, 'o', color='white')\n",
    "    ax.axis('square')"
   ]
  },
  {
   "cell_type": "markdown",
   "metadata": {},
   "source": [
    "## Running the k-means algorithm"
   ]
  },
  {
   "cell_type": "markdown",
   "metadata": {},
   "source": [
    "With all the algorithms and functions ready, we can now run the k-means algorithm."
   ]
  },
  {
   "cell_type": "markdown",
   "metadata": {},
   "source": [
    "#### Generating data"
   ]
  },
  {
   "cell_type": "markdown",
   "metadata": {},
   "source": [
    "The first step is to generate data using the generation function above. Note that, since the generator also uses the random number generator, the data generated using the seed below was found to be the best for clustering. However, a different seed can be used to generate different data, but due to the randomness, the results might not be as good.\n",
    "   \n",
    "   \n",
    "Here, also note that the actual_means are stored only for comparision after the clustering. The k-means algorithm has absolutely no reference about the actual means, or number of shapes used when generating the data. "
   ]
  },
  {
   "cell_type": "code",
   "execution_count": 11,
   "metadata": {},
   "outputs": [],
   "source": [
    "# Generating data using the data generation function\n",
    "clustering_data, actual_means = generate_clustering_data(600, seed=4)"
   ]
  },
  {
   "cell_type": "markdown",
   "metadata": {},
   "source": [
    "#### Setting up the parameters for k-means"
   ]
  },
  {
   "cell_type": "markdown",
   "metadata": {},
   "source": [
    "Since we generated dataset using 4 ellipse shaped blobs, $k=4$ is the natural choice for number of clusters."
   ]
  },
  {
   "cell_type": "code",
   "execution_count": 12,
   "metadata": {},
   "outputs": [],
   "source": [
    "k = 4 # the number of clusters\n",
    "max_iterations = 20   # maximum iterations for the k-means algorithm"
   ]
  },
  {
   "cell_type": "markdown",
   "metadata": {},
   "source": [
    "#### Running k-means with the generated data and given parameters"
   ]
  },
  {
   "cell_type": "markdown",
   "metadata": {},
   "source": [
    "Here, note that there are random seeds used for both the Euclidean and the Mahalanobis distance versions of ***k-means***. This is because the intial random choice of the cluster representatives has a huge impact on the final results. These seeds were found to produce good results while experimenting, and different seeds might produce worse results."
   ]
  },
  {
   "cell_type": "code",
   "execution_count": 13,
   "metadata": {},
   "outputs": [
    {
     "name": "stdout",
     "output_type": "stream",
     "text": [
      "Clustering using Euclidean distances...\n",
      "Euclidian distance based k-means took 7 iterations for k = 4\n",
      "Clustering using Mahanalobis distances...\n",
      "Mahalanobis distance based k-means took 11 iterations for k = 4\n",
      "Clustering done!\n"
     ]
    },
    {
     "data": {
      "image/png": "[encoded data removed]",
      "text/plain": [
       "<Figure size 1000x500 with 2 Axes>"
      ]
     },
     "metadata": {},
     "output_type": "display_data"
    }
   ],
   "source": [
    "np.random.seed(25)   # the random seed that was found to produce good results for eulidean k-means\n",
    "print(\"Clustering using Euclidean distances...\")\n",
    "# calling the k-means algorithm with euclidean distances on the data\n",
    "euc_partition, euc_means, euc_iterations = k_means(clustering_data, k, \\\n",
    "                                                        max_iterations, mahalanobis=False)\n",
    "print(\"Euclidian distance based k-means took {} iterations for k = {}\".format(euc_iterations, k))\n",
    "\n",
    "np.random.seed(10) # the random seed that was found to produce good results for mahalanobis k-means\n",
    "print(\"Clustering using Mahanalobis distances...\")\n",
    "# calling the k-means algorithm with mahalanobis distances on the data\n",
    "mahal_partition, mahal_means, mahal_iterations = k_means(clustering_data, k, \\\n",
    "                                                        max_iterations, mahalanobis=True)\n",
    "print(\"Mahalanobis distance based k-means took {} iterations for k = {}\".format(mahal_iterations, k))\n",
    "\n",
    "print(\"Clustering done!\")\n",
    "\n",
    "# figure and axes for plotting the clusters\n",
    "figure, axs = plt.subplots(1, 2, figsize=(10, 5))\n",
    "figure.suptitle(\"Clustering for k = {}\".format(k))\n",
    "\n",
    "# plotting the clusters calculated using euclidean based k-means\n",
    "plot_clusters(euc_partition, euc_means, axs[0], \"Using Euclidean distances\")\n",
    "\n",
    "# plotting the clusters calculated using euclidean based k-means\n",
    "plot_clusters(mahal_partition, mahal_means, axs[1], \"Using Mahalanobis distances\")\n",
    "\n",
    "plt.show()"
   ]
  },
  {
   "cell_type": "markdown",
   "metadata": {},
   "source": [
    "## Observations and Experiments: Mahalanobis vs. Euclidean distances for k-means"
   ]
  },
  {
   "cell_type": "markdown",
   "metadata": {},
   "source": [
    "As we can see in the above plots, the Mahalanobis distance based k-means produces much superior results than its Euclidean distance based counterpart. This is because of the covariance consideration in Mahalanobis distance calculation. While the points might be closer in the euclidean space, ellipse shaped data has a covariance between the $x$ and $y$ coordinates. So, data points that have similar covariance should belong to the same cluster, which is successfully done using Mahalanobis distances. However, the Euclidean distance based k-means fails to capture the covariance, and produces clusters that look 'spherical', because it is only suitable for clusters that can be modeled by *hyper-spheres*, while our input data is *hyper-ellipsodial*.\n",
    "    \n",
    "Note that, the random seeds of data generation and intial representative choice can give drastically different end results."
   ]
  },
  {
   "cell_type": "markdown",
   "metadata": {},
   "source": [
    "### Comparision of actual means and means of final clusters with Mahalanobis and Euclidean distances"
   ]
  },
  {
   "cell_type": "markdown",
   "metadata": {},
   "source": [
    "We can also compare the results of each of the k-means algorithm with the actual means that were calculated at the time of data generation. The following code plots all three kinds of means for comparision purposes."
   ]
  },
  {
   "cell_type": "code",
   "execution_count": 14,
   "metadata": {
    "scrolled": true
   },
   "outputs": [
    {
     "data": {
      "image/png": "[encoded data removed]",
      "text/plain": [
       "<Figure size 800x400 with 1 Axes>"
      ]
     },
     "metadata": {},
     "output_type": "display_data"
    }
   ],
   "source": [
    "# This code plots the actual means kept from the data generation, the final means of euclidean based\n",
    "# k-means and the final means of mahanalobis based k-means\n",
    "figure2 = plt.figure(figsize=(8, 4))\n",
    "figure2.suptitle(\"Final means using Mahalanobis vs. Final means using Euclidean vs. Actual Means\")\n",
    "\n",
    "# plotting the actual means that were calculated at the time of data-generation\n",
    "actual_means_x = [mean[0] for mean in actual_means]\n",
    "actual_means_y = [mean[1] for mean in actual_means]\n",
    "plt.plot(actual_means_x, actual_means_y, 'd', color='green')\n",
    "\n",
    "# plotting the final means of partition obtained with euclidean distance based k-means\n",
    "euc_means_x = [mean[0] for mean in euc_means]\n",
    "euc_means_y = [mean[1] for mean in euc_means]\n",
    "plt.plot(euc_means_x, euc_means_y, 'x', color='orangered')\n",
    "\n",
    "# plotting the final means of partition obtained with mahalanobis distance based k-means\n",
    "mahal_means_x = [mean[0] for mean in mahal_means]\n",
    "mahal_means_y = [mean[1] for mean in mahal_means]\n",
    "plt.plot(mahal_means_x, mahal_means_y, '+', color='white')\n",
    "\n",
    "plt.legend([\"Actual means calculated in data generation\", \"Means from Euclidean based k-means\", \"Means from Mahalanobis based k-means\"], loc =\"lower right\")\n",
    "plt.show()"
   ]
  },
  {
   "cell_type": "markdown",
   "metadata": {},
   "source": [
    "As the above plot shows, there is minimal difference between the means of actual ellipse shapes and the means of clusters produced by the Mahalanobis distance based k-means. In contrast, the Euclidean based k-means produced means that are far from the means of actual shapes, indicating that the clustering done by it is not close to optimal."
   ]
  },
  {
   "cell_type": "markdown",
   "metadata": {},
   "source": [
    "# Part 2: Cluster validation using Davies-Bouldin Index"
   ]
  },
  {
   "cell_type": "markdown",
   "metadata": {},
   "source": [
    "## Utility Functions"
   ]
  },
  {
   "cell_type": "markdown",
   "metadata": {},
   "source": [
    "#### Loading data from a file"
   ]
  },
  {
   "cell_type": "code",
   "execution_count": 15,
   "metadata": {},
   "outputs": [],
   "source": [
    "def load_data_from_file(filename):\n",
    "    \"\"\"\n",
    "    Loads clustering data from a file\n",
    "    \n",
    "    :param filename: Name of the file to load data from\n",
    "    \n",
    "    :returns: A list containing each point in the data, where point is also a list of its\n",
    "             coordinates (e.g. if file has two points 0.5,0.5 and 1.0,1.0, the final list\n",
    "             is [[0.5,0.5], [1.0,1.0]])\n",
    "    \"\"\"\n",
    "    points = []\n",
    "    with open(filename, 'r') as fp:\n",
    "        lines = fp.readlines() # reading all the lines at once\n",
    "        # going through each line to extract data\n",
    "        for line in lines:\n",
    "            coords = line.split(',')  # splitting on a comma\n",
    "            new_point = []\n",
    "            for coord in coords:\n",
    "                new_point.append(float(coord.strip()))  # converting the string values to float\n",
    "            points.append(new_point)\n",
    "    \n",
    "    return points"
   ]
  },
  {
   "cell_type": "markdown",
   "metadata": {},
   "source": [
    "#### Calculating distance within cluster"
   ]
  },
  {
   "cell_type": "markdown",
   "metadata": {},
   "source": [
    "Distance within the cluster is the average distance of each data point from the centroid of the cluster. It gives a measure of the spread of the cluster, where higher within distance means a larger spread and vice versa. Distance within a cluster $c$ with centroid $\\mu_c$ and $N$ points can be calculated using the following equation:\n",
    "\n",
    "$$\\bar{d_c} = \\frac{1}{N}\\sum_{i=1}^{N}{d(x_i, \\mu_c)}$$"
   ]
  },
  {
   "cell_type": "code",
   "execution_count": 16,
   "metadata": {},
   "outputs": [],
   "source": [
    "def calc_within_cluster_dist(cluster, cluster_centroid):\n",
    "    \"\"\"\n",
    "    Calculates the 'within-distance' of a cluster\n",
    "    \n",
    "    :param cluster: input cluster\n",
    "    :param cluster_centroid: centroid of the cluster\n",
    "    \n",
    "    :returns: Average distance between each point in the cluster from its centroid\n",
    "    \"\"\"\n",
    "    avg_distance = 0.0\n",
    "    for point in cluster:\n",
    "        avg_distance += calc_euclidean_distance(point, cluster_centroid)\n",
    "    avg_distance /= len(cluster)  # dividing at the end\n",
    "    return avg_distance"
   ]
  },
  {
   "cell_type": "markdown",
   "metadata": {},
   "source": [
    "## Davies-Bouldin Index for cluster validation"
   ]
  },
  {
   "cell_type": "markdown",
   "metadata": {},
   "source": [
    "As we saw in part 1, choosing the number of clusters $k$ for k-means is not a trivial task. A bad choice of $k$ can give worse clusters, and choosing a $k$ that is more suitable for the input data is essential for effective clustering. The Davies-Bouldin Index for cluster validation is a metric that determines the ideal number of clusters in a data. It uses the distance within the individual clusters as well as distance between the clusters to generate an index. The Davies-Bouldin Index of a partition $\\mathcal{C}$ with $k$ clusters is calculated using the following equation:\n",
    "\n",
    "$$DB(\\mathcal{C}) = \\frac{1}{k} \\sum_{i=1}^{k}{\\max_{j \\leq k, j \\neq i} D_{ij}}, k = |\\mathcal{C}|$$\n",
    "\n",
    "    \n",
    "    \n",
    "Where,\n",
    "$$D_{ij} = \\frac{(\\bar{d_i}+\\bar{d_j})}{d_{ij}}$$\n",
    "where $\\bar{d_i}$ and $\\bar{d_j}$ are within distances of clusters $i$ and $j$, and  $d_{ij}$ is the distance between the centroids of the clusters $i$ and $j$\n",
    "\n",
    "   The number of clusters $k$ which minimizes the Davies-Bouldin index is considered to be the best number of clusters suitable for the input data.\n"
   ]
  },
  {
   "cell_type": "code",
   "execution_count": 17,
   "metadata": {},
   "outputs": [],
   "source": [
    "def calc_davies_bouldin_index(partition, centroids):\n",
    "    \"\"\"\n",
    "    Calculates the Davies-Bouldin index for a given partition\n",
    "    \n",
    "    :param partition: input partition\n",
    "    :param centroids: centroids of the clusters in partition\n",
    "    \n",
    "    :returns: Davies-Bouldin index of the input partition\n",
    "    \"\"\"\n",
    "    k = len(partition)\n",
    "    max_distances = [0.0]*k\n",
    "    within_dists = [calc_within_cluster_dist(cluster, centroid) \\\n",
    "                    for cluster, centroid in zip(partition, centroids)]\n",
    "    for i, cluster_i in enumerate(partition):\n",
    "        max_distance = 0\n",
    "        for j, cluster_j in enumerate(partition):\n",
    "            if j == i:\n",
    "                continue\n",
    "            distance_between = calc_euclidean_distance(centroids[i], centroids[j])\n",
    "            distance = within_dists[i] / distance_between\n",
    "            if distance > max_distance:\n",
    "                max_distance = distance\n",
    "        max_distances[i] = max_distance\n",
    "    db_index = sum(max_distances) / k\n",
    "    return db_index"
   ]
  },
  {
   "cell_type": "markdown",
   "metadata": {},
   "source": [
    "## Simulating k-means with Davies Bouldin Index"
   ]
  },
  {
   "cell_type": "markdown",
   "metadata": {},
   "source": [
    "#### Loading data from the file"
   ]
  },
  {
   "cell_type": "markdown",
   "metadata": {},
   "source": [
    "We first load the validation data from the file. Note that this requires the file ```cluster_validation_data.txt``` to be in the same directory as this notebook."
   ]
  },
  {
   "cell_type": "code",
   "execution_count": 18,
   "metadata": {},
   "outputs": [
    {
     "ename": "FileNotFoundError",
     "evalue": "[Errno 2] No such file or directory: 'cluster_validation_data.txt'",
     "output_type": "error",
     "traceback": [
      "\u001b[1;31m---------------------------------------------------------------------------\u001b[0m",
      "\u001b[1;31mFileNotFoundError\u001b[0m                         Traceback (most recent call last)",
      "\u001b[1;32m<ipython-input-18-842eed5de241>\u001b[0m in \u001b[0;36m<module>\u001b[1;34m\u001b[0m\n\u001b[1;32m----> 1\u001b[1;33m \u001b[0mvalidation_data\u001b[0m \u001b[1;33m=\u001b[0m \u001b[0mload_data_from_file\u001b[0m\u001b[1;33m(\u001b[0m\u001b[1;34m\"cluster_validation_data.txt\"\u001b[0m\u001b[1;33m)\u001b[0m\u001b[1;33m\u001b[0m\u001b[1;33m\u001b[0m\u001b[0m\n\u001b[0m",
      "\u001b[1;32m<ipython-input-15-a7cb8c8e3c04>\u001b[0m in \u001b[0;36mload_data_from_file\u001b[1;34m(filename)\u001b[0m\n\u001b[0;32m     10\u001b[0m     \"\"\"\n\u001b[0;32m     11\u001b[0m     \u001b[0mpoints\u001b[0m \u001b[1;33m=\u001b[0m \u001b[1;33m[\u001b[0m\u001b[1;33m]\u001b[0m\u001b[1;33m\u001b[0m\u001b[1;33m\u001b[0m\u001b[0m\n\u001b[1;32m---> 12\u001b[1;33m     \u001b[1;32mwith\u001b[0m \u001b[0mopen\u001b[0m\u001b[1;33m(\u001b[0m\u001b[0mfilename\u001b[0m\u001b[1;33m,\u001b[0m \u001b[1;34m'r'\u001b[0m\u001b[1;33m)\u001b[0m \u001b[1;32mas\u001b[0m \u001b[0mfp\u001b[0m\u001b[1;33m:\u001b[0m\u001b[1;33m\u001b[0m\u001b[1;33m\u001b[0m\u001b[0m\n\u001b[0m\u001b[0;32m     13\u001b[0m         \u001b[0mlines\u001b[0m \u001b[1;33m=\u001b[0m \u001b[0mfp\u001b[0m\u001b[1;33m.\u001b[0m\u001b[0mreadlines\u001b[0m\u001b[1;33m(\u001b[0m\u001b[1;33m)\u001b[0m \u001b[1;31m# reading all the lines at once\u001b[0m\u001b[1;33m\u001b[0m\u001b[1;33m\u001b[0m\u001b[0m\n\u001b[0;32m     14\u001b[0m         \u001b[1;31m# going through each line to extract data\u001b[0m\u001b[1;33m\u001b[0m\u001b[1;33m\u001b[0m\u001b[1;33m\u001b[0m\u001b[0m\n",
      "\u001b[1;31mFileNotFoundError\u001b[0m: [Errno 2] No such file or directory: 'cluster_validation_data.txt'"
     ]
    }
   ],
   "source": [
    "validation_data = load_data_from_file(\"cluster_validation_data.txt\")"
   ]
  },
  {
   "cell_type": "markdown",
   "metadata": {},
   "source": [
    "#### Setting up the parameters for k-means"
   ]
  },
  {
   "cell_type": "markdown",
   "metadata": {},
   "source": [
    "As previously, the below random seed was found to produce good results. Changing the seed will give different results."
   ]
  },
  {
   "cell_type": "code",
   "execution_count": null,
   "metadata": {},
   "outputs": [],
   "source": [
    "np.random.seed(25)\n",
    "max_validation_k = 20\n",
    "max_validation_iters = 100\n",
    "validation_ks = [i for i in range(2, max_validation_k+1)]"
   ]
  },
  {
   "cell_type": "markdown",
   "metadata": {},
   "source": [
    "#### Simulating Euclidean based k-means to find the best partition "
   ]
  },
  {
   "cell_type": "markdown",
   "metadata": {},
   "source": [
    "We run the k-means algorithm with euclidean distance with number of clusters upto the specified ```max_validation_k```, and observe the results below."
   ]
  },
  {
   "cell_type": "code",
   "execution_count": null,
   "metadata": {},
   "outputs": [],
   "source": [
    "print(\"Running cluster validation with Euclidean distances for k upto {}\\n\".format(max_validation_k))\n",
    "\n",
    "davies_bouldin_indexes = []\n",
    "min_index = sys.float_info.max\n",
    "best_partition = []\n",
    "best_means = []\n",
    "best_k = -1\n",
    "\n",
    "# running the k-means algorithm for k upto max validation, keeping track of the best partition found\n",
    "# at each validation k\n",
    "for validation_k in range(2, max_validation_k + 1):\n",
    "    partition, means, iterations = k_means(validation_data, validation_k, max_validation_iters, mahalanobis=False)\n",
    "    db_index = calc_davies_bouldin_index(partition, means)\n",
    "    if db_index < min_index:\n",
    "        # new best partition found\n",
    "        min_index = db_index\n",
    "        best_partition = partition\n",
    "        best_means = means\n",
    "        best_k = validation_k\n",
    "    davies_bouldin_indexes.append(db_index)\n",
    "    print(\"Clustering with k = {} took {} iterations\".format(validation_k, iterations))\n",
    "\n",
    "# figure to plot the davies bouldin indexes of validation k's\n",
    "figure, axs = plt.subplots(1, 2, figsize=(12, 5))\n",
    "figure.suptitle(\"Cluster validation with Davies-Bouldin Index\")\n",
    "\n",
    "# plotting the Davies-Bouldin values\n",
    "axs[0].set_title(\"Davies-Bouldin Indexes vs. number of clusters(k)\")\n",
    "axs[0].plot(validation_ks, davies_bouldin_indexes, '-', color='grey')\n",
    "axs[0].plot(validation_ks, davies_bouldin_indexes, '.', color='turquoise')\n",
    "axs[0].set_xlabel(\"Number of clusters (k)\")\n",
    "axs[0].set_ylabel(\"Davies-Bouldin Values\")\n",
    "axs[0].set_xticks(validation_ks)\n",
    "\n",
    "# plotting the best partition\n",
    "plot_clusters(best_partition, best_means, axs[1], \\\n",
    "              \"Best partition (k={}) with minimum Davies-Bouldin Index\".format(best_k))\n",
    "\n",
    "plt.show()"
   ]
  },
  {
   "cell_type": "markdown",
   "metadata": {},
   "source": [
    "## Observations and Experiments: Davies Bouldin Index"
   ]
  },
  {
   "cell_type": "markdown",
   "metadata": {},
   "source": [
    "As it can be seen from the above plots, 3 is the optimal number of clusters for the given validation data as it has the minimum Davies-Bouldin Index. When the ```max_validation_k``` is changed to larger values, it is also observed that the Davies-Bouldin Index does not change much after a certain number of k's. This is because as the number of clusters increases, the clusters become smaller and get closer. For larger values, these numbers have a less tendency of varying too much, which in turn makes the ratio relatively less volatile than smaller k's."
   ]
  }
 ],
 "metadata": {
  "anaconda-cloud": {},
  "kernelspec": {
   "display_name": "Python 3",
   "language": "python",
   "name": "python3"
  },
  "language_info": {
   "codemirror_mode": {
    "name": "ipython",
    "version": 3
   },
   "file_extension": ".py",
   "mimetype": "text/x-python",
   "name": "python",
   "nbconvert_exporter": "python",
   "pygments_lexer": "ipython3",
   "version": "3.7.4"
  }
 },
 "nbformat": 4,
 "nbformat_minor": 1
}
